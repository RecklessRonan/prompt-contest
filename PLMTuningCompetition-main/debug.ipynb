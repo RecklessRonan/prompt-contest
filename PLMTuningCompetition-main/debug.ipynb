{
 "cells": [
  {
   "cell_type": "code",
   "execution_count": 1,
   "metadata": {},
   "outputs": [],
   "source": [
    "import torch"
   ]
  },
  {
   "cell_type": "code",
   "execution_count": 4,
   "metadata": {},
   "outputs": [
    {
     "data": {
      "text/plain": [
       "tensor([[[0.9287, 0.7295, 0.3382, 0.1727],\n",
       "         [0.5223, 0.2858, 0.9265, 0.5985],\n",
       "         [0.4457, 0.9788, 0.6885, 0.1604]],\n",
       "\n",
       "        [[0.3951, 0.6569, 0.5433, 0.1186],\n",
       "         [0.5852, 0.7568, 0.2620, 0.4211],\n",
       "         [0.9293, 0.8702, 0.9200, 0.9416]]])"
      ]
     },
     "execution_count": 4,
     "metadata": {},
     "output_type": "execute_result"
    }
   ],
   "source": [
    "a = torch.rand((2, 3, 4))\n",
    "a"
   ]
  },
  {
   "cell_type": "code",
   "execution_count": 6,
   "metadata": {},
   "outputs": [
    {
     "data": {
      "text/plain": [
       "tensor([[0.4777, 0.9646, 0.7843, 0.7410],\n",
       "        [0.6550, 0.2704, 0.6395, 0.3912],\n",
       "        [0.0313, 0.1316, 0.4330, 0.1787]])"
      ]
     },
     "execution_count": 6,
     "metadata": {},
     "output_type": "execute_result"
    }
   ],
   "source": [
    "b = torch.rand(3, 4)\n",
    "b"
   ]
  },
  {
   "cell_type": "code",
   "execution_count": 7,
   "metadata": {},
   "outputs": [
    {
     "data": {
      "text/plain": [
       "tensor([[[1.4064, 1.6942, 1.1225, 0.9137],\n",
       "         [1.1773, 0.5563, 1.5661, 0.9897],\n",
       "         [0.4770, 1.1104, 1.1215, 0.3391]],\n",
       "\n",
       "        [[0.8728, 1.6215, 1.3275, 0.8596],\n",
       "         [1.2401, 1.0272, 0.9015, 0.8124],\n",
       "         [0.9606, 1.0018, 1.3530, 1.1203]]])"
      ]
     },
     "execution_count": 7,
     "metadata": {},
     "output_type": "execute_result"
    }
   ],
   "source": [
    "c = a + b\n",
    "c"
   ]
  },
  {
   "cell_type": "code",
   "execution_count": 8,
   "metadata": {},
   "outputs": [
    {
     "data": {
      "text/plain": [
       "torch.Size([2, 3, 4])"
      ]
     },
     "execution_count": 8,
     "metadata": {},
     "output_type": "execute_result"
    }
   ],
   "source": [
    "c.shape"
   ]
  },
  {
   "cell_type": "code",
   "execution_count": null,
   "metadata": {},
   "outputs": [],
   "source": []
  }
 ],
 "metadata": {
  "kernelspec": {
   "display_name": "Python 3.8.0 ('bbt')",
   "language": "python",
   "name": "python3"
  },
  "language_info": {
   "codemirror_mode": {
    "name": "ipython",
    "version": 3
   },
   "file_extension": ".py",
   "mimetype": "text/x-python",
   "name": "python",
   "nbconvert_exporter": "python",
   "pygments_lexer": "ipython3",
   "version": "3.8.0"
  },
  "orig_nbformat": 4,
  "vscode": {
   "interpreter": {
    "hash": "43bcc97be6690a72f4deff687c29b2f0ff75c78b33324c69515e7d3a09e3c6cd"
   }
  }
 },
 "nbformat": 4,
 "nbformat_minor": 2
}
